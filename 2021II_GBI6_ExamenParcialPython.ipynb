{
 "cells": [
  {
   "cell_type": "markdown",
   "id": "9e321162",
   "metadata": {},
   "source": [
    "<img src=\"https://www.ikiam.edu.ec/img/logo-ikiam-grey.png\" width=300 height=240 />\n",
    "\n",
    "# EXAMEN PARCIAL PYTHON\n",
    "    \n",
    "\n",
    "## GBI6-2021II: BIOINFORMÁTICA\n",
    "\n",
    "**Culcay, Mishelle** <--- CAMBIE POR LOS QUE CORRESPONDA A SUS DATOS\n",
    "\n",
    "**18-02-2022**"
   ]
  },
  {
   "cell_type": "markdown",
   "id": "f73f39df",
   "metadata": {},
   "source": [
    "<font color='red'>NO AGREGUE NUEVAS CELDAS, UTILICE ÚNICAMENTE LAS QUE ESTÁN CREADAS</font>"
   ]
  },
  {
   "cell_type": "markdown",
   "id": "12be4971",
   "metadata": {},
   "source": [
    "### REQUERIMIENTOS PARA EL EXAMEN\n",
    "Para este examen se requiere dos documentos: \n",
    "\n",
    "1. Archivo ```miningscience.py``` donde tendrá dos funciones:\n",
    "\n",
    "2. Archivo ```2021II_GBI6_ExamenParcialPython``` donde se llamará las funciones y se obtendrá resultados."
   ]
  },
  {
   "cell_type": "markdown",
   "id": "29afca2a",
   "metadata": {},
   "source": [
    "## Ejercicio 1 [2 puntos]\n",
    "Cree el archivo ```miningscience.py``` con las siguientes dos funciones:\n",
    "    \n",
    "i. ```download_pubmed```: para descargar la data de PubMed utilizando el **ENTREZ** de Biopython. El parámetro de entrada para la función es el ```keyword```. \n",
    "    \n",
    "ii. ```mining_pubs```: esta función debe utilizar el módulo **re** y utilizar el párametro ```tipo``` para realizar lo siguiente:\n",
    "        \n",
    "* Si el tipo es \"DP\" recupera el año de publicación del artículo. El retorno es un *dataframe* con el **PMID** y el **DP_year**.\n",
    "      \n",
    "* Si el tipo es \"AU\" recupera el número de autores por **PMID**. El retorno es un *dataframe* con el **PMID** y el **num_auth**. \n",
    "      \n",
    "* Si el tipo es \"AD\" recupera el conteo de autores por país. El retorno es un *dataframe* con el **country** y el **num_auth**. \n",
    "\n",
    "* *Puede utilizar un ```if``` dentro de la función.* \n",
    "\n",
    "* *Cree un docstring para cada función.* \n",
    "\n",
    "Luego de crear las funciones, cargue el módulo ```miningscience``` como ```msc``` e imprima docstring de cada función.\n"
   ]
  },
  {
   "cell_type": "code",
   "execution_count": 1,
   "id": "2526adc7",
   "metadata": {},
   "outputs": [
    {
     "name": "stdout",
     "output_type": "stream",
     "text": [
      "Help on function download_pubmed in module miningsciences:\n",
      "\n",
      "download_pubmed(keyword)\n",
      "    Función que extrae listado de artículos desde pubmed a traves de un keyword que ingresa el usuario entre comillas\n",
      "\n",
      "Help on function mining_pubs in module miningsciences:\n",
      "\n",
      "mining_pubs(tipo, archivo)\n",
      "    Función que pide como primera entrada tres tipos de opciones \"DP\", \"AU\" y \"AD\" y como salida muestra un data frame con los datos solicitados\n",
      "\n"
     ]
    }
   ],
   "source": [
    "import miningsciences as msc\n",
    "\n",
    "help(msc.download_pubmed)\n",
    "help(msc.mining_pubs)"
   ]
  },
  {
   "cell_type": "markdown",
   "id": "93fce138",
   "metadata": {},
   "source": [
    "## Ejercicio 2 [1 punto]\n",
    "\n",
    "\n",
    "Utilice la función ```download_pubmed``` para descargar la data con el keyword ```Ecuador proteomics``` e imprima lo siguiente: \n",
    "\n",
    "```python\n",
    "'El número de artículos es: xx' # xx corresponde al número de artículos recuperados\n",
    "\n",
    "'El PMID del primer artículo es: xxxxxxxx' # xxxxxxxx corresponde al ID del artículo en PUDMED\n",
    "\n",
    "```"
   ]
  },
  {
   "cell_type": "code",
   "execution_count": 2,
   "id": "54ba0e63",
   "metadata": {},
   "outputs": [
    {
     "name": "stdout",
     "output_type": "stream",
     "text": [
      "El número de articulos es:  193\n",
      "El PMID del primer articulo es:  35121084\n"
     ]
    }
   ],
   "source": [
    "a = msc.download_pubmed(\"Ecuador genomics\")\n",
    "import re\n",
    "b = re.findall(r\"PMID- \", a)\n",
    "print(\"El número de articulos es: \", len(b))\n",
    "c = re.findall(r\"\\d{8}\", a)\n",
    "print(\"El PMID del primer articulo es: \", c[0])"
   ]
  },
  {
   "cell_type": "code",
   "execution_count": null,
   "id": "cb06cdff",
   "metadata": {},
   "outputs": [],
   "source": []
  }
 ],
 "metadata": {
  "kernelspec": {
   "display_name": "Python 3 (ipykernel)",
   "language": "python",
   "name": "python3"
  },
  "language_info": {
   "codemirror_mode": {
    "name": "ipython",
    "version": 3
   },
   "file_extension": ".py",
   "mimetype": "text/x-python",
   "name": "python",
   "nbconvert_exporter": "python",
   "pygments_lexer": "ipython3",
   "version": "3.9.7"
  }
 },
 "nbformat": 4,
 "nbformat_minor": 5
}
